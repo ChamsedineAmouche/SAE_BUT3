{
 "cells": [
  {
   "cell_type": "markdown",
   "metadata": {},
   "source": [
    "<h1> Convention d'écriture de code Projet Green Circle </h1>"
   ]
  },
  {
   "cell_type": "markdown",
   "metadata": {
    "vscode": {
     "languageId": "plaintext"
    }
   },
   "source": [
    "<h2> Base de données </h2>"
   ]
  },
  {
   "cell_type": "markdown",
   "metadata": {
    "vscode": {
     "languageId": "plaintext"
    }
   },
   "source": [
    "<h3> Nom des tables</h3>"
   ]
  },
  {
   "cell_type": "markdown",
   "metadata": {
    "vscode": {
     "languageId": "plaintext"
    }
   },
   "source": [
    "<ul>  \n",
    "<li> Choisir une langue pour le nom de toute les tables </li>\n",
    "<li> Ecrire le nom des tables en minuscule </li>\n",
    "<li> Pas de nom de table au pluriel toujours singulier </li>\n",
    "</ul>"
   ]
  },
  {
   "cell_type": "markdown",
   "metadata": {
    "vscode": {
     "languageId": "plaintext"
    }
   },
   "source": [
    "<h3> Nom des champs </h3>"
   ]
  },
  {
   "cell_type": "markdown",
   "metadata": {
    "vscode": {
     "languageId": "plaintext"
    }
   },
   "source": [
    "<ul>\n",
    "<li> Choisir même langue pour les noms des champs que pour les tables</li>\n",
    "<li> Nom des champs en minuscule</li>\n",
    "<li> Pas de nom de champ au pluriel toujours singulier par exemple object et pas objects</li>\n",
    "<li> Snake case, par exemple : user_id et pas userID </li>\n",
    "</ul>"
   ]
  },
  {
   "cell_type": "markdown",
   "metadata": {
    "vscode": {
     "languageId": "plaintext"
    }
   },
   "source": [
    "<h2> NodeJS et ReactJS</h2>"
   ]
  },
  {
   "cell_type": "markdown",
   "metadata": {
    "vscode": {
     "languageId": "plaintext"
    }
   },
   "source": [
    "<h3> Règle de style </h3>\n",
    "<h4> Aérer et indenter</h4>\n",
    "<p> Même si JavaScript gère bien les indentations & co bien indenter et aérer le code pour une meilleure relecture</p>"
   ]
  },
  {
   "cell_type": "code",
   "execution_count": null,
   "metadata": {
    "vscode": {
     "languageId": "javascript"
    }
   },
   "outputs": [],
   "source": [
    "function illisible(a,b){var vartoto=a+b;\n",
    "    if(vartoto>Number(document.getElementById('toto').getAttribute('data-value'))){return vartoto;}else{return false;}}"
   ]
  },
  {
   "cell_type": "code",
   "execution_count": null,
   "metadata": {
    "vscode": {
     "languageId": "javascript"
    }
   },
   "outputs": [],
   "source": [
    "function lisible( a, b ){\n",
    "    var vartoto = a + b;\n",
    "    var compare = Number( document.getElementById( 'toto' ).getAttribute( 'data-value' ) ) ;\n",
    "    if( vartoto > compare ){\n",
    "       return vartoto;\n",
    "    }\n",
    "    else{\n",
    "       return false;\n",
    "    }\n",
    "  }"
   ]
  },
  {
   "cell_type": "markdown",
   "metadata": {
    "vscode": {
     "languageId": "javascript"
    }
   },
   "source": [
    "<h3> Convention de nommage </h3>\n",
    "\n",
    "<h4> Variable </h4>\n",
    "<p> Les variables doivent être écris en lowerCamelCase et être déclarative</p>\n",
    "<p> Si la variable est un booléen on ajoutera comme particularité de mettre un verbe devant</p>"
   ]
  },
  {
   "cell_type": "code",
   "execution_count": null,
   "metadata": {
    "vscode": {
     "languageId": "javascript"
    }
   },
   "outputs": [],
   "source": [
    "//Mauvais usage pas de lowerCamelCase ou pas déclaratif\n",
    "let x = \"Douglas\"\n",
    "let firstname = \"Douglas\"\n",
    "\n",
    "//Bonne usage déclaratif et lowerCamelCase\n",
    "let firstName = \"Douglas\"\n",
    "\n",
    "//Mauvaise usage\n",
    "let run = true\n",
    "\n",
    "//Bonne usage\n",
    "let isRunning = true"
   ]
  },
  {
   "cell_type": "markdown",
   "metadata": {},
   "source": [
    "<h3> Fonctions </h3>\n",
    "\n",
    "<p> On utilisera le même fonctionnement : lowercamelcase pour le nom de la fonction ainsi qu'un verbe devant</p>"
   ]
  },
  {
   "cell_type": "code",
   "execution_count": null,
   "metadata": {
    "vscode": {
     "languageId": "javascript"
    }
   },
   "outputs": [],
   "source": [
    "// Mauvaise usage\n",
    "let user() => {\n",
    "}\n",
    "\n",
    "// Bonne usage\n",
    "let getUser() => { \n",
    "}"
   ]
  },
  {
   "cell_type": "markdown",
   "metadata": {},
   "source": [
    "<h3> Classes </h3>\n",
    "\n",
    "<p> Les classes seront déclarés en PascalCase </p>"
   ]
  },
  {
   "cell_type": "code",
   "execution_count": null,
   "metadata": {
    "vscode": {
     "languageId": "javascript"
    }
   },
   "outputs": [],
   "source": [
    "\n",
    "// Mauvais\n",
    "class userRole {\n",
    "    ...\n",
    "    getUser() {\n",
    "        ...\n",
    "    }\n",
    "}\n",
    "\n",
    "// Bien\n",
    "class UserRole {\n",
    "    ...\n",
    "    getUser() {\n",
    "        ...\n",
    "    }\n",
    "}"
   ]
  },
  {
   "cell_type": "markdown",
   "metadata": {},
   "source": [
    "<h3> Constantes </h3>\n",
    "\n",
    "<p> Les contantes seront écrit en majuscule et le snake case sera préféré</p>"
   ]
  },
  {
   "cell_type": "code",
   "execution_count": null,
   "metadata": {
    "vscode": {
     "languageId": "javascript"
    }
   },
   "outputs": [],
   "source": [
    "// Mauvais\n",
    "const time = 60\n",
    "const daysInYear = 365\n",
    "\n",
    "// Bien\n",
    "const TIME = 60\n",
    "const DAYS_IN_YEAR = 365"
   ]
  }
 ],
 "metadata": {
  "language_info": {
   "name": "python"
  },
  "orig_nbformat": 4
 },
 "nbformat": 4,
 "nbformat_minor": 2
}
